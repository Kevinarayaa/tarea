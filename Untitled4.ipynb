{
 "cells": [
  {
   "cell_type": "code",
   "execution_count": 1,
   "id": "60f67378-e691-4e84-8e9a-4f56afb8b7db",
   "metadata": {},
   "outputs": [
    {
     "ename": "IndexError",
     "evalue": "list index out of range",
     "output_type": "error",
     "traceback": [
      "\u001b[0;31m---------------------------------------------------------------------------\u001b[0m",
      "\u001b[0;31mIndexError\u001b[0m                                Traceback (most recent call last)",
      "Cell \u001b[0;32mIn[1], line 12\u001b[0m\n\u001b[1;32m     10\u001b[0m \u001b[38;5;66;03m# Extraer la tabla de ingresos\u001b[39;00m\n\u001b[1;32m     11\u001b[0m tables \u001b[38;5;241m=\u001b[39m soup\u001b[38;5;241m.\u001b[39mfind_all(\u001b[38;5;124m\"\u001b[39m\u001b[38;5;124mtable\u001b[39m\u001b[38;5;124m\"\u001b[39m)\n\u001b[0;32m---> 12\u001b[0m revenue_table \u001b[38;5;241m=\u001b[39m \u001b[43mtables\u001b[49m\u001b[43m[\u001b[49m\u001b[38;5;241;43m1\u001b[39;49m\u001b[43m]\u001b[49m  \u001b[38;5;66;03m# Ajusta según la posición de la tabla en la página\u001b[39;00m\n\u001b[1;32m     14\u001b[0m \u001b[38;5;66;03m# Convertir la tabla a un DataFrame\u001b[39;00m\n\u001b[1;32m     15\u001b[0m rows \u001b[38;5;241m=\u001b[39m revenue_table\u001b[38;5;241m.\u001b[39mfind_all(\u001b[38;5;124m\"\u001b[39m\u001b[38;5;124mtr\u001b[39m\u001b[38;5;124m\"\u001b[39m)\n",
      "\u001b[0;31mIndexError\u001b[0m: list index out of range"
     ]
    }
   ],
   "source": [
    "import requests\n",
    "from bs4 import BeautifulSoup\n",
    "import pandas as pd\n",
    "\n",
    "# URL de la página web con los datos de ingresos de Tesla\n",
    "url = \"https://www.macrotrends.net/stocks/charts/TSLA/tesla/revenue\"\n",
    "response = requests.get(url)\n",
    "soup = BeautifulSoup(response.text, \"html.parser\")\n",
    "\n",
    "# Extraer la tabla de ingresos\n",
    "tables = soup.find_all(\"table\")\n",
    "revenue_table = tables[1]  # Ajusta según la posición de la tabla en la página\n",
    "\n",
    "# Convertir la tabla a un DataFrame\n",
    "rows = revenue_table.find_all(\"tr\")\n",
    "revenue_data = []\n",
    "for row in rows:\n",
    "    columns = row.find_all(\"td\")\n",
    "    revenue_data.append([col.text.strip() for col in columns])\n",
    "\n",
    "# Crear el DataFrame\n",
    "tesla_revenue = pd.DataFrame(revenue_data, columns=[\"Date\", \"Revenue\"])\n",
    "\n",
    "# Limpiar los datos\n",
    "tesla_revenue = tesla_revenue.dropna()\n",
    "tesla_revenue[\"Revenue\"] = tesla_revenue[\"Revenue\"].str.replace(\",\", \"\").str.replace(\"$\", \"\")\n",
    "tesla_revenue[\"Revenue\"] = pd.to_numeric(tesla_revenue[\"Revenue\"], errors=\"coerce\")\n",
    "\n",
    "# Mostrar las últimas cinco filas\n",
    "print(tesla_revenue.tail())\n"
   ]
  },
  {
   "cell_type": "code",
   "execution_count": 2,
   "id": "54340fe7-7d9d-4b5a-8494-392d06408f2d",
   "metadata": {},
   "outputs": [
    {
     "ename": "ModuleNotFoundError",
     "evalue": "No module named 'selenium'",
     "output_type": "error",
     "traceback": [
      "\u001b[0;31m---------------------------------------------------------------------------\u001b[0m",
      "\u001b[0;31mModuleNotFoundError\u001b[0m                       Traceback (most recent call last)",
      "Cell \u001b[0;32mIn[2], line 1\u001b[0m\n\u001b[0;32m----> 1\u001b[0m \u001b[38;5;28;01mfrom\u001b[39;00m \u001b[38;5;21;01mselenium\u001b[39;00m \u001b[38;5;28;01mimport\u001b[39;00m webdriver\n\u001b[1;32m      2\u001b[0m \u001b[38;5;28;01mfrom\u001b[39;00m \u001b[38;5;21;01mbs4\u001b[39;00m \u001b[38;5;28;01mimport\u001b[39;00m BeautifulSoup\n\u001b[1;32m      3\u001b[0m \u001b[38;5;28;01mimport\u001b[39;00m \u001b[38;5;21;01mpandas\u001b[39;00m \u001b[38;5;28;01mas\u001b[39;00m \u001b[38;5;21;01mpd\u001b[39;00m\n",
      "\u001b[0;31mModuleNotFoundError\u001b[0m: No module named 'selenium'"
     ]
    }
   ],
   "source": [
    "from selenium import webdriver\n",
    "from bs4 import BeautifulSoup\n",
    "import pandas as pd\n",
    "import time\n",
    "\n",
    "# Configura el WebDriver\n",
    "driver = webdriver.Chrome(executable_path=\"ruta/al/chromedriver\")  # Reemplaza con la ruta a tu WebDriver\n",
    "url = \"https://www.macrotrends.net/stocks/charts/TSLA/tesla/revenue\"\n",
    "driver.get(url)\n",
    "\n",
    "# Espera unos segundos para que la página se cargue\n",
    "time.sleep(5)\n",
    "\n",
    "# Obtén el contenido HTML\n",
    "html = driver.page_source\n",
    "soup = BeautifulSoup(html, \"html.parser\")\n",
    "\n",
    "# Extraer la tabla de ingresos\n",
    "tables = soup.find_all(\"table\")\n",
    "revenue_table = tables[1]  # Asegúrate de que sea la tabla correcta\n",
    "\n",
    "# Convertir la tabla a un DataFrame\n",
    "rows = revenue_table.find_all(\"tr\")\n",
    "revenue_data = []\n",
    "for row in rows:\n",
    "    columns = row.find_all(\"td\")\n",
    "    revenue_data.append([col.text.strip() for col in columns])\n",
    "\n",
    "# Crear el DataFrame\n",
    "tesla_revenue = pd.DataFrame(revenue_data, columns=[\"Date\", \"Revenue\"])\n",
    "\n",
    "# Limpiar los datos\n",
    "tesla_revenue = tesla_revenue.dropna()\n",
    "tesla_revenue[\"Revenue\"] = tesla_revenue[\"Revenue\"].str.replace(\",\", \"\").str.replace(\"$\", \"\")\n",
    "tesla_revenue[\"Revenue\"] = pd.to_numeric(tesla_revenue[\"Revenue\"], errors=\"coerce\")\n",
    "\n",
    "# Mostrar las últimas cinco filas\n",
    "print(tesla_revenue.tail())\n",
    "\n",
    "# Cerrar el navegador\n",
    "driver.quit()\n"
   ]
  },
  {
   "cell_type": "code",
   "execution_count": null,
   "id": "93659d7d-3c9f-4b9b-a6c5-156891e5504d",
   "metadata": {},
   "outputs": [],
   "source": []
  }
 ],
 "metadata": {
  "kernelspec": {
   "display_name": "Python 3 (ipykernel)",
   "language": "python",
   "name": "python3"
  },
  "language_info": {
   "codemirror_mode": {
    "name": "ipython",
    "version": 3
   },
   "file_extension": ".py",
   "mimetype": "text/x-python",
   "name": "python",
   "nbconvert_exporter": "python",
   "pygments_lexer": "ipython3",
   "version": "3.11.9"
  }
 },
 "nbformat": 4,
 "nbformat_minor": 5
}
