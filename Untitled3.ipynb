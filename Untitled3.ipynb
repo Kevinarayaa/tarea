{
 "cells": [
  {
   "cell_type": "code",
   "execution_count": 1,
   "id": "c710d7de-85aa-4e1d-a56a-b072f8daf8f1",
   "metadata": {},
   "outputs": [],
   "source": [
    "import requests\n",
    "from bs4 import BeautifulSoup\n",
    "import pandas as pd\n"
   ]
  },
  {
   "cell_type": "code",
   "execution_count": 2,
   "id": "88625c4a-c5fe-401f-b1ac-107198325210",
   "metadata": {},
   "outputs": [],
   "source": [
    "url = \"https://www.macrotrends.net/stocks/charts/TSLA/tesla/revenue\"\n",
    "response = requests.get(url)\n",
    "soup = BeautifulSoup(response.text, \"html.parser\")\n"
   ]
  },
  {
   "cell_type": "code",
   "execution_count": 3,
   "id": "b370e5ee-0d92-4c91-a4e0-c2c248f80393",
   "metadata": {},
   "outputs": [
    {
     "ename": "IndexError",
     "evalue": "list index out of range",
     "output_type": "error",
     "traceback": [
      "\u001b[0;31m---------------------------------------------------------------------------\u001b[0m",
      "\u001b[0;31mIndexError\u001b[0m                                Traceback (most recent call last)",
      "Cell \u001b[0;32mIn[3], line 2\u001b[0m\n\u001b[1;32m      1\u001b[0m tables \u001b[38;5;241m=\u001b[39m soup\u001b[38;5;241m.\u001b[39mfind_all(\u001b[38;5;124m\"\u001b[39m\u001b[38;5;124mtable\u001b[39m\u001b[38;5;124m\"\u001b[39m)  \u001b[38;5;66;03m# Encuentra todas las tablas\u001b[39;00m\n\u001b[0;32m----> 2\u001b[0m revenue_table \u001b[38;5;241m=\u001b[39m \u001b[43mtables\u001b[49m\u001b[43m[\u001b[49m\u001b[38;5;241;43m1\u001b[39;49m\u001b[43m]\u001b[49m  \u001b[38;5;66;03m# Selecciona la tabla correcta según su posición (ajusta si es necesario)\u001b[39;00m\n",
      "\u001b[0;31mIndexError\u001b[0m: list index out of range"
     ]
    }
   ],
   "source": [
    "tables = soup.find_all(\"table\")  # Encuentra todas las tablas\n",
    "revenue_table = tables[1]  # Selecciona la tabla correcta según su posición (ajusta si es necesario)\n"
   ]
  },
  {
   "cell_type": "code",
   "execution_count": 4,
   "id": "ed4e750a-1556-4db2-96ea-70c8b2b6e6c6",
   "metadata": {},
   "outputs": [
    {
     "ename": "NameError",
     "evalue": "name 'revenue_table' is not defined",
     "output_type": "error",
     "traceback": [
      "\u001b[0;31m---------------------------------------------------------------------------\u001b[0m",
      "\u001b[0;31mNameError\u001b[0m                                 Traceback (most recent call last)",
      "Cell \u001b[0;32mIn[4], line 1\u001b[0m\n\u001b[0;32m----> 1\u001b[0m rows \u001b[38;5;241m=\u001b[39m \u001b[43mrevenue_table\u001b[49m\u001b[38;5;241m.\u001b[39mfind_all(\u001b[38;5;124m\"\u001b[39m\u001b[38;5;124mtr\u001b[39m\u001b[38;5;124m\"\u001b[39m)\n\u001b[1;32m      2\u001b[0m revenue_data \u001b[38;5;241m=\u001b[39m []\n\u001b[1;32m      3\u001b[0m \u001b[38;5;28;01mfor\u001b[39;00m row \u001b[38;5;129;01min\u001b[39;00m rows:\n",
      "\u001b[0;31mNameError\u001b[0m: name 'revenue_table' is not defined"
     ]
    }
   ],
   "source": [
    "rows = revenue_table.find_all(\"tr\")\n",
    "revenue_data = []\n",
    "for row in rows:\n",
    "    columns = row.find_all(\"td\")\n",
    "    revenue_data.append([col.text.strip() for col in columns])\n",
    "\n",
    "# Crear el DataFrame\n",
    "tesla_revenue = pd.DataFrame(revenue_data, columns=[\"Date\", \"Revenue\"])\n"
   ]
  },
  {
   "cell_type": "code",
   "execution_count": 5,
   "id": "44baf6dd-e2b9-4734-82a2-a964f914a343",
   "metadata": {},
   "outputs": [
    {
     "ename": "NameError",
     "evalue": "name 'tesla_revenue' is not defined",
     "output_type": "error",
     "traceback": [
      "\u001b[0;31m---------------------------------------------------------------------------\u001b[0m",
      "\u001b[0;31mNameError\u001b[0m                                 Traceback (most recent call last)",
      "Cell \u001b[0;32mIn[5], line 1\u001b[0m\n\u001b[0;32m----> 1\u001b[0m tesla_revenue \u001b[38;5;241m=\u001b[39m \u001b[43mtesla_revenue\u001b[49m\u001b[38;5;241m.\u001b[39mdropna()  \u001b[38;5;66;03m# Elimina filas vacías\u001b[39;00m\n\u001b[1;32m      2\u001b[0m tesla_revenue[\u001b[38;5;124m\"\u001b[39m\u001b[38;5;124mRevenue\u001b[39m\u001b[38;5;124m\"\u001b[39m] \u001b[38;5;241m=\u001b[39m tesla_revenue[\u001b[38;5;124m\"\u001b[39m\u001b[38;5;124mRevenue\u001b[39m\u001b[38;5;124m\"\u001b[39m]\u001b[38;5;241m.\u001b[39mstr\u001b[38;5;241m.\u001b[39mreplace(\u001b[38;5;124m\"\u001b[39m\u001b[38;5;124m,\u001b[39m\u001b[38;5;124m\"\u001b[39m, \u001b[38;5;124m\"\u001b[39m\u001b[38;5;124m\"\u001b[39m)\u001b[38;5;241m.\u001b[39mstr\u001b[38;5;241m.\u001b[39mreplace(\u001b[38;5;124m\"\u001b[39m\u001b[38;5;124m$\u001b[39m\u001b[38;5;124m\"\u001b[39m, \u001b[38;5;124m\"\u001b[39m\u001b[38;5;124m\"\u001b[39m)\n\u001b[1;32m      3\u001b[0m tesla_revenue[\u001b[38;5;124m\"\u001b[39m\u001b[38;5;124mRevenue\u001b[39m\u001b[38;5;124m\"\u001b[39m] \u001b[38;5;241m=\u001b[39m pd\u001b[38;5;241m.\u001b[39mto_numeric(tesla_revenue[\u001b[38;5;124m\"\u001b[39m\u001b[38;5;124mRevenue\u001b[39m\u001b[38;5;124m\"\u001b[39m], errors\u001b[38;5;241m=\u001b[39m\u001b[38;5;124m\"\u001b[39m\u001b[38;5;124mcoerce\u001b[39m\u001b[38;5;124m\"\u001b[39m)\n",
      "\u001b[0;31mNameError\u001b[0m: name 'tesla_revenue' is not defined"
     ]
    }
   ],
   "source": [
    "tesla_revenue = tesla_revenue.dropna()  # Elimina filas vacías\n",
    "tesla_revenue[\"Revenue\"] = tesla_revenue[\"Revenue\"].str.replace(\",\", \"\").str.replace(\"$\", \"\")\n",
    "tesla_revenue[\"Revenue\"] = pd.to_numeric(tesla_revenue[\"Revenue\"], errors=\"coerce\")\n"
   ]
  },
  {
   "cell_type": "code",
   "execution_count": 6,
   "id": "c43070fc-65c8-491b-af4d-64a298d929af",
   "metadata": {},
   "outputs": [
    {
     "ename": "NameError",
     "evalue": "name 'tesla_revenue' is not defined",
     "output_type": "error",
     "traceback": [
      "\u001b[0;31m---------------------------------------------------------------------------\u001b[0m",
      "\u001b[0;31mNameError\u001b[0m                                 Traceback (most recent call last)",
      "Cell \u001b[0;32mIn[6], line 1\u001b[0m\n\u001b[0;32m----> 1\u001b[0m \u001b[38;5;28mprint\u001b[39m(\u001b[43mtesla_revenue\u001b[49m\u001b[38;5;241m.\u001b[39mtail())\n",
      "\u001b[0;31mNameError\u001b[0m: name 'tesla_revenue' is not defined"
     ]
    }
   ],
   "source": [
    "print(tesla_revenue.tail())\n"
   ]
  },
  {
   "cell_type": "code",
   "execution_count": null,
   "id": "5889e331-4235-4bc4-949b-98df0d999751",
   "metadata": {},
   "outputs": [],
   "source": []
  }
 ],
 "metadata": {
  "kernelspec": {
   "display_name": "Python 3 (ipykernel)",
   "language": "python",
   "name": "python3"
  },
  "language_info": {
   "codemirror_mode": {
    "name": "ipython",
    "version": 3
   },
   "file_extension": ".py",
   "mimetype": "text/x-python",
   "name": "python",
   "nbconvert_exporter": "python",
   "pygments_lexer": "ipython3",
   "version": "3.11.9"
  }
 },
 "nbformat": 4,
 "nbformat_minor": 5
}
