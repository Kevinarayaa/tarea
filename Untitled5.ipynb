{
 "cells": [
  {
   "cell_type": "code",
   "execution_count": 1,
   "id": "2326d322-9343-4572-93f2-3ae2b3ebbef7",
   "metadata": {},
   "outputs": [
    {
     "name": "stdout",
     "output_type": "stream",
     "text": [
      "                                                   0  \\\n",
      "0                                                NaN   \n",
      "1  Gigafactory Texas, Tesla's headquarters, in Au...   \n",
      "2                                           Formerly   \n",
      "3                                       Company type   \n",
      "4                                          Traded as   \n",
      "\n",
      "                                                   1  \n",
      "0                                                NaN  \n",
      "1  Gigafactory Texas, Tesla's headquarters, in Au...  \n",
      "2                     Tesla Motors, Inc. (2003–2017)  \n",
      "3                                             Public  \n",
      "4  Nasdaq: TSLANasdaq-100 componentS&P 100 compon...  \n",
      "                                                    0  \\\n",
      "23                                       Subsidiaries   \n",
      "24                                                NaN   \n",
      "25                                                ASN   \n",
      "26                                            Website   \n",
      "27  Footnotes / references Financials as of Decemb...   \n",
      "\n",
      "                                                    1  \n",
      "23                       Tesla AutomationTesla Energy  \n",
      "24                                                NaN  \n",
      "25                                             394161  \n",
      "26                                          tesla.com  \n",
      "27  Footnotes / references Financials as of Decemb...  \n"
     ]
    }
   ],
   "source": [
    "import pandas as pd\n",
    "\n",
    "# URL de la página de Wikipedia\n",
    "url = \"https://en.wikipedia.org/wiki/Tesla,_Inc.\"\n",
    "\n",
    "# Leer las tablas directamente con pandas\n",
    "tables = pd.read_html(url)\n",
    "\n",
    "# Seleccionar una tabla específica (ajustar índice según la página)\n",
    "# En este caso, tomaremos la primera tabla como ejemplo\n",
    "tesla_table = tables[0]  # Cambia el índice si necesitas otra tabla\n",
    "\n",
    "# Mostrar las primeras filas para verificar\n",
    "print(tesla_table.head())\n",
    "\n",
    "# Si quieres ver las últimas cinco filas\n",
    "print(tesla_table.tail())\n"
   ]
  },
  {
   "cell_type": "code",
   "execution_count": null,
   "id": "9b8937e8-ad60-4f32-b375-761dfee30431",
   "metadata": {},
   "outputs": [],
   "source": []
  }
 ],
 "metadata": {
  "kernelspec": {
   "display_name": "Python 3 (ipykernel)",
   "language": "python",
   "name": "python3"
  },
  "language_info": {
   "codemirror_mode": {
    "name": "ipython",
    "version": 3
   },
   "file_extension": ".py",
   "mimetype": "text/x-python",
   "name": "python",
   "nbconvert_exporter": "python",
   "pygments_lexer": "ipython3",
   "version": "3.11.9"
  }
 },
 "nbformat": 4,
 "nbformat_minor": 5
}
